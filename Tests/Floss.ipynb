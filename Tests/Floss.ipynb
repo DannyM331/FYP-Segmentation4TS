{
 "cells": [
  {
   "cell_type": "code",
   "execution_count": 1,
   "metadata": {},
   "outputs": [],
   "source": [
    "import sys\n",
    "import os\n",
    "\n",
    "# Only add the project root to sys.path\n",
    "root_path = os.path.abspath('..')\n",
    "if root_path not in sys.path:\n",
    "    sys.path.insert(0, root_path)"
   ]
  },
  {
   "cell_type": "code",
   "execution_count": 3,
   "metadata": {},
   "outputs": [
    {
     "ename": "AttributeError",
     "evalue": "'str' object has no attribute 'copy'",
     "output_type": "error",
     "traceback": [
      "\u001b[1;31m---------------------------------------------------------------------------\u001b[0m",
      "\u001b[1;31mAttributeError\u001b[0m                            Traceback (most recent call last)",
      "Cell \u001b[1;32mIn[3], line 21\u001b[0m\n\u001b[0;32m     18\u001b[0m \u001b[38;5;66;03m# Read true change points\u001b[39;00m\n\u001b[0;32m     19\u001b[0m true_change_points \u001b[38;5;241m=\u001b[39m read_true_change_points(desc_path, dataset_name)\n\u001b[1;32m---> 21\u001b[0m cps \u001b[38;5;241m=\u001b[39m \u001b[43mfloss\u001b[49m\u001b[43m(\u001b[49m\u001b[43mdata_path\u001b[49m\u001b[43m,\u001b[49m\u001b[43m \u001b[49m\u001b[38;5;241;43m200\u001b[39;49m\u001b[43m,\u001b[49m\u001b[43m \u001b[49m\u001b[38;5;241;43m50\u001b[39;49m\u001b[43m,\u001b[49m\u001b[43m \u001b[49m\u001b[38;5;241;43m5\u001b[39;49m\u001b[43m)\u001b[49m\n\u001b[0;32m     23\u001b[0m \u001b[38;5;28mprint\u001b[39m(\u001b[38;5;124mf\u001b[39m\u001b[38;5;124m\"\u001b[39m\u001b[38;5;124mDetected Change Points by Binseg: \u001b[39m\u001b[38;5;132;01m{\u001b[39;00mdetected_cps\u001b[38;5;132;01m}\u001b[39;00m\u001b[38;5;124m\"\u001b[39m)\n\u001b[0;32m     24\u001b[0m \u001b[38;5;28mprint\u001b[39m(\u001b[38;5;124mf\u001b[39m\u001b[38;5;124m\"\u001b[39m\u001b[38;5;124mTrue Change Points: \u001b[39m\u001b[38;5;132;01m{\u001b[39;00mtrue_cps\u001b[38;5;132;01m}\u001b[39;00m\u001b[38;5;124m\"\u001b[39m)\n",
      "File \u001b[1;32mc:\\Users\\danny\\Desktop\\FourthYear\\FYP\\FYP-Segmentation4TS\\Algorithms\\floss.py:19\u001b[0m, in \u001b[0;36mfloss\u001b[1;34m(ts, sliding_window_size, window_size, n_cps, return_cac)\u001b[0m\n\u001b[0;32m     18\u001b[0m \u001b[38;5;28;01mdef\u001b[39;00m \u001b[38;5;21mfloss\u001b[39m(ts, sliding_window_size, window_size, n_cps, return_cac\u001b[38;5;241m=\u001b[39m\u001b[38;5;28;01mFalse\u001b[39;00m):\n\u001b[1;32m---> 19\u001b[0m     mp \u001b[38;5;241m=\u001b[39m \u001b[43mstumpy\u001b[49m\u001b[38;5;241;43m.\u001b[39;49m\u001b[43mstump\u001b[49m\u001b[43m(\u001b[49m\u001b[43mts\u001b[49m\u001b[43m[\u001b[49m\u001b[43m:\u001b[49m\u001b[43msliding_window_size\u001b[49m\u001b[43m]\u001b[49m\u001b[43m,\u001b[49m\u001b[43m \u001b[49m\u001b[43mm\u001b[49m\u001b[38;5;241;43m=\u001b[39;49m\u001b[43mwindow_size\u001b[49m\u001b[43m)\u001b[49m\n\u001b[0;32m     21\u001b[0m     stream \u001b[38;5;241m=\u001b[39m stumpy\u001b[38;5;241m.\u001b[39mfloss(\n\u001b[0;32m     22\u001b[0m         mp,\n\u001b[0;32m     23\u001b[0m         ts[:sliding_window_size],\n\u001b[0;32m     24\u001b[0m         m\u001b[38;5;241m=\u001b[39mwindow_size,\n\u001b[0;32m     25\u001b[0m         L\u001b[38;5;241m=\u001b[39mwindow_size\n\u001b[0;32m     26\u001b[0m     )\n\u001b[0;32m     28\u001b[0m     cac \u001b[38;5;241m=\u001b[39m np\u001b[38;5;241m.\u001b[39mfull(ts\u001b[38;5;241m.\u001b[39mshape[\u001b[38;5;241m0\u001b[39m], fill_value\u001b[38;5;241m=\u001b[39mnp\u001b[38;5;241m.\u001b[39minf, dtype\u001b[38;5;241m=\u001b[39mnp\u001b[38;5;241m.\u001b[39mfloat64)\n",
      "File \u001b[1;32mc:\\Users\\danny\\anaconda3\\envs\\TSFYP\\lib\\site-packages\\stumpy\\core.py:132\u001b[0m, in \u001b[0;36mnon_normalized.<locals>.outer_wrapper.<locals>.inner_wrapper\u001b[1;34m(*args, **kwargs)\u001b[0m\n\u001b[0;32m    130\u001b[0m is_same_params \u001b[38;5;241m=\u001b[39m _compare_parameters(norm, non_norm, exclude\u001b[38;5;241m=\u001b[39mexclude)\n\u001b[0;32m    131\u001b[0m \u001b[38;5;28;01mif\u001b[39;00m \u001b[38;5;129;01mnot\u001b[39;00m is_same_params \u001b[38;5;129;01mor\u001b[39;00m kwargs\u001b[38;5;241m.\u001b[39mget(\u001b[38;5;124m\"\u001b[39m\u001b[38;5;124mnormalize\u001b[39m\u001b[38;5;124m\"\u001b[39m, \u001b[38;5;28;01mTrue\u001b[39;00m):\n\u001b[1;32m--> 132\u001b[0m     \u001b[38;5;28;01mreturn\u001b[39;00m norm(\u001b[38;5;241m*\u001b[39margs, \u001b[38;5;241m*\u001b[39m\u001b[38;5;241m*\u001b[39mkwargs)\n\u001b[0;32m    133\u001b[0m \u001b[38;5;28;01melse\u001b[39;00m:\n\u001b[0;32m    134\u001b[0m     kwargs \u001b[38;5;241m=\u001b[39m {k: v \u001b[38;5;28;01mfor\u001b[39;00m k, v \u001b[38;5;129;01min\u001b[39;00m kwargs\u001b[38;5;241m.\u001b[39mitems() \u001b[38;5;28;01mif\u001b[39;00m k \u001b[38;5;241m!=\u001b[39m \u001b[38;5;124m\"\u001b[39m\u001b[38;5;124mnormalize\u001b[39m\u001b[38;5;124m\"\u001b[39m}\n",
      "File \u001b[1;32mc:\\Users\\danny\\anaconda3\\envs\\TSFYP\\lib\\site-packages\\stumpy\\stump.py:552\u001b[0m, in \u001b[0;36mstump\u001b[1;34m(T_A, m, T_B, ignore_trivial, normalize, p)\u001b[0m\n\u001b[0;32m    542\u001b[0m     T_B \u001b[38;5;241m=\u001b[39m T_A\n\u001b[0;32m    543\u001b[0m     ignore_trivial \u001b[38;5;241m=\u001b[39m \u001b[38;5;28;01mTrue\u001b[39;00m\n\u001b[0;32m    545\u001b[0m (\n\u001b[0;32m    546\u001b[0m     T_A,\n\u001b[0;32m    547\u001b[0m     μ_Q,\n\u001b[0;32m    548\u001b[0m     σ_Q_inverse,\n\u001b[0;32m    549\u001b[0m     μ_Q_m_1,\n\u001b[0;32m    550\u001b[0m     T_A_subseq_isfinite,\n\u001b[0;32m    551\u001b[0m     T_A_subseq_isconstant,\n\u001b[1;32m--> 552\u001b[0m ) \u001b[38;5;241m=\u001b[39m \u001b[43mcore\u001b[49m\u001b[38;5;241;43m.\u001b[39;49m\u001b[43mpreprocess_diagonal\u001b[49m\u001b[43m(\u001b[49m\u001b[43mT_A\u001b[49m\u001b[43m,\u001b[49m\u001b[43m \u001b[49m\u001b[43mm\u001b[49m\u001b[43m)\u001b[49m\n\u001b[0;32m    554\u001b[0m (\n\u001b[0;32m    555\u001b[0m     T_B,\n\u001b[0;32m    556\u001b[0m     M_T,\n\u001b[1;32m   (...)\u001b[0m\n\u001b[0;32m    560\u001b[0m     T_B_subseq_isconstant,\n\u001b[0;32m    561\u001b[0m ) \u001b[38;5;241m=\u001b[39m core\u001b[38;5;241m.\u001b[39mpreprocess_diagonal(T_B, m)\n\u001b[0;32m    563\u001b[0m \u001b[38;5;28;01mif\u001b[39;00m T_A\u001b[38;5;241m.\u001b[39mndim \u001b[38;5;241m!=\u001b[39m \u001b[38;5;241m1\u001b[39m:  \u001b[38;5;66;03m# pragma: no cover\u001b[39;00m\n",
      "File \u001b[1;32mc:\\Users\\danny\\anaconda3\\envs\\TSFYP\\lib\\site-packages\\stumpy\\core.py:1702\u001b[0m, in \u001b[0;36mpreprocess_diagonal\u001b[1;34m(T, m)\u001b[0m\n\u001b[0;32m   1656\u001b[0m \u001b[38;5;28;01mdef\u001b[39;00m \u001b[38;5;21mpreprocess_diagonal\u001b[39m(T, m):\n\u001b[0;32m   1657\u001b[0m \u001b[38;5;250m    \u001b[39m\u001b[38;5;124;03m\"\"\"\u001b[39;00m\n\u001b[0;32m   1658\u001b[0m \u001b[38;5;124;03m    Preprocess a time series that is to be used when traversing the diagonals of a\u001b[39;00m\n\u001b[0;32m   1659\u001b[0m \u001b[38;5;124;03m    distance matrix.\u001b[39;00m\n\u001b[1;32m   (...)\u001b[0m\n\u001b[0;32m   1700\u001b[0m \u001b[38;5;124;03m        A boolean array that indicates whether a subsequence in `T` is constant (True)\u001b[39;00m\n\u001b[0;32m   1701\u001b[0m \u001b[38;5;124;03m    \"\"\"\u001b[39;00m\n\u001b[1;32m-> 1702\u001b[0m     T, T_subseq_isfinite \u001b[38;5;241m=\u001b[39m \u001b[43mpreprocess_non_normalized\u001b[49m\u001b[43m(\u001b[49m\u001b[43mT\u001b[49m\u001b[43m,\u001b[49m\u001b[43m \u001b[49m\u001b[43mm\u001b[49m\u001b[43m)\u001b[49m\n\u001b[0;32m   1703\u001b[0m     M_T, Σ_T \u001b[38;5;241m=\u001b[39m compute_mean_std(T, m)\n\u001b[0;32m   1704\u001b[0m     T_subseq_isconstant \u001b[38;5;241m=\u001b[39m Σ_T \u001b[38;5;241m<\u001b[39m config\u001b[38;5;241m.\u001b[39mSTUMPY_STDDEV_THRESHOLD\n",
      "File \u001b[1;32mc:\\Users\\danny\\anaconda3\\envs\\TSFYP\\lib\\site-packages\\stumpy\\core.py:1648\u001b[0m, in \u001b[0;36mpreprocess_non_normalized\u001b[1;34m(T, m)\u001b[0m\n\u001b[0;32m   1621\u001b[0m \u001b[38;5;28;01mdef\u001b[39;00m \u001b[38;5;21mpreprocess_non_normalized\u001b[39m(T, m):\n\u001b[0;32m   1622\u001b[0m \u001b[38;5;250m    \u001b[39m\u001b[38;5;124;03m\"\"\"\u001b[39;00m\n\u001b[0;32m   1623\u001b[0m \u001b[38;5;124;03m    Preprocess a time series that is to be used when computing a non-normalized (i.e.,\u001b[39;00m\n\u001b[0;32m   1624\u001b[0m \u001b[38;5;124;03m    without z-normalization) distance matrix.\u001b[39;00m\n\u001b[1;32m   (...)\u001b[0m\n\u001b[0;32m   1646\u001b[0m \u001b[38;5;124;03m        `np.nan`/`np.inf` value (False)\u001b[39;00m\n\u001b[0;32m   1647\u001b[0m \u001b[38;5;124;03m    \"\"\"\u001b[39;00m\n\u001b[1;32m-> 1648\u001b[0m     T \u001b[38;5;241m=\u001b[39m \u001b[43m_preprocess\u001b[49m\u001b[43m(\u001b[49m\u001b[43mT\u001b[49m\u001b[43m)\u001b[49m\n\u001b[0;32m   1649\u001b[0m     check_window_size(m, max_size\u001b[38;5;241m=\u001b[39mT\u001b[38;5;241m.\u001b[39mshape[\u001b[38;5;241m-\u001b[39m\u001b[38;5;241m1\u001b[39m])\n\u001b[0;32m   1650\u001b[0m     T_subseq_isfinite \u001b[38;5;241m=\u001b[39m rolling_isfinite(T, m)\n",
      "File \u001b[1;32mc:\\Users\\danny\\anaconda3\\envs\\TSFYP\\lib\\site-packages\\stumpy\\core.py:1578\u001b[0m, in \u001b[0;36m_preprocess\u001b[1;34m(T)\u001b[0m\n\u001b[0;32m   1563\u001b[0m \u001b[38;5;28;01mdef\u001b[39;00m \u001b[38;5;21m_preprocess\u001b[39m(T):\n\u001b[0;32m   1564\u001b[0m \u001b[38;5;250m    \u001b[39m\u001b[38;5;124;03m\"\"\"\u001b[39;00m\n\u001b[0;32m   1565\u001b[0m \u001b[38;5;124;03m    Creates a copy of the time series, transposes all dataframes, converts to\u001b[39;00m\n\u001b[0;32m   1566\u001b[0m \u001b[38;5;124;03m    `numpy.ndarray`, and checks the `dtype`\u001b[39;00m\n\u001b[1;32m   (...)\u001b[0m\n\u001b[0;32m   1576\u001b[0m \u001b[38;5;124;03m        Modified time series\u001b[39;00m\n\u001b[0;32m   1577\u001b[0m \u001b[38;5;124;03m    \"\"\"\u001b[39;00m\n\u001b[1;32m-> 1578\u001b[0m     T \u001b[38;5;241m=\u001b[39m \u001b[43mT\u001b[49m\u001b[38;5;241;43m.\u001b[39;49m\u001b[43mcopy\u001b[49m()\n\u001b[0;32m   1579\u001b[0m     T \u001b[38;5;241m=\u001b[39m transpose_dataframe(T)\n\u001b[0;32m   1580\u001b[0m     T \u001b[38;5;241m=\u001b[39m np\u001b[38;5;241m.\u001b[39masarray(T)\n",
      "\u001b[1;31mAttributeError\u001b[0m: 'str' object has no attribute 'copy'"
     ]
    }
   ],
   "source": [
    "import numpy as np\n",
    "import matplotlib.pyplot as plt\n",
    "from Functions.metrics import f_measure, covering\n",
    "from Functions.true_cps import read_true_change_points\n",
    "from Algorithms.floss import floss\n",
    "# from coverage import calculate_coverage_score\n",
    "\n",
    "# Define the dataset name\n",
    "dataset_name = 'CricketX'\n",
    "\n",
    "# Path to the dataset and description files\n",
    "data_path = f'..\\Data\\{dataset_name}.txt'\n",
    "desc_path = '..\\Data\\TrueCPS\\desc.txt'\n",
    "\n",
    "# Load the dataset\n",
    "data = np.loadtxt(data_path)\n",
    "\n",
    "# Read true change points\n",
    "true_change_points = read_true_change_points(desc_path, dataset_name)\n",
    "\n",
    "cps = floss(data_path, 200, 50, 5)\n",
    "\n",
    "print(f\"Detected Change Points by Binseg: {detected_cps}\")\n",
    "print(f\"True Change Points: {true_cps}\")\n",
    "print(f\"F1 Score: {f1_score}\")\n",
    "print(f\"Covering Score: {covering_score}\")\n",
    "\n",
    "# Visualization\n",
    "plt.figure(figsize=(15, 6))  # Adjust the figure size to make it wider\n",
    "plt.plot(data, label='Time Series Data')\n",
    "\n",
    "# Draw vertical lines for each change point detected by binseg\n",
    "for cp in change_points:\n",
    "    plt.axvline(x=cp, color='red', linestyle='--', linewidth=1, label='Detected Change Point' if cp == change_points[0] else \"\")\n",
    "\n",
    "# Draw vertical lines for each true change point\n",
    "for cp in true_change_points:\n",
    "    plt.axvline(x=cp, color='green', linestyle='-', linewidth=1, label='True Change Point' if cp == true_change_points[0] else \"\")\n",
    "\n",
    "plt.xlabel('Time')\n",
    "plt.ylabel('Value')\n",
    "plt.title(f'Time Series Data of {dataset_name} with Detected and True Change Points')\n",
    "plt.legend()\n",
    "plt.show()"
   ]
  }
 ],
 "metadata": {
  "kernelspec": {
   "display_name": "TSFYP",
   "language": "python",
   "name": "python3"
  },
  "language_info": {
   "codemirror_mode": {
    "name": "ipython",
    "version": 3
   },
   "file_extension": ".py",
   "mimetype": "text/x-python",
   "name": "python",
   "nbconvert_exporter": "python",
   "pygments_lexer": "ipython3",
   "version": "3.9.18"
  }
 },
 "nbformat": 4,
 "nbformat_minor": 2
}
