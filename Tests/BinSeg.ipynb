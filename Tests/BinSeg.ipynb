{
 "cells": [
  {
   "cell_type": "code",
   "execution_count": 7,
   "metadata": {},
   "outputs": [],
   "source": [
    "import sys\n",
    "import os\n",
    "\n",
    "functions_path = os.path.abspath('../Functions')\n",
    "data_path = os.path.abspath('../Data')\n",
    "algorithms_path = os.path.abspath('../Algorithms')\n",
    "\n",
    "sys.path.append(functions_path)\n",
    "sys.path.append(data_path)\n",
    "sys.path.append(algorithms_path)"
   ]
  },
  {
   "cell_type": "code",
   "execution_count": 15,
   "metadata": {},
   "outputs": [
    {
     "ename": "ImportError",
     "evalue": "cannot import name 'coverage_score' from 'coverage' (c:\\Users\\danny\\Desktop\\FourthYear\\FYP\\FYP-Segmentation4TS\\Functions\\coverage.py)",
     "output_type": "error",
     "traceback": [
      "\u001b[1;31m---------------------------------------------------------------------------\u001b[0m",
      "\u001b[1;31mImportError\u001b[0m                               Traceback (most recent call last)",
      "Cell \u001b[1;32mIn[15], line 5\u001b[0m\n\u001b[0;32m      3\u001b[0m \u001b[38;5;28;01mfrom\u001b[39;00m \u001b[38;5;21;01mbinseg\u001b[39;00m \u001b[38;5;28;01mimport\u001b[39;00m binseg\n\u001b[0;32m      4\u001b[0m \u001b[38;5;28;01mfrom\u001b[39;00m \u001b[38;5;21;01mtrue_cps\u001b[39;00m \u001b[38;5;28;01mimport\u001b[39;00m read_true_change_points\n\u001b[1;32m----> 5\u001b[0m \u001b[38;5;28;01mfrom\u001b[39;00m \u001b[38;5;21;01mcoverage\u001b[39;00m \u001b[38;5;28;01mimport\u001b[39;00m coverage_score\n\u001b[0;32m      7\u001b[0m \u001b[38;5;66;03m# Define the dataset name\u001b[39;00m\n\u001b[0;32m      8\u001b[0m dataset_name \u001b[38;5;241m=\u001b[39m \u001b[38;5;124m'\u001b[39m\u001b[38;5;124mCricketX\u001b[39m\u001b[38;5;124m'\u001b[39m\n",
      "\u001b[1;31mImportError\u001b[0m: cannot import name 'coverage_score' from 'coverage' (c:\\Users\\danny\\Desktop\\FourthYear\\FYP\\FYP-Segmentation4TS\\Functions\\coverage.py)"
     ]
    }
   ],
   "source": [
    "import numpy as np\n",
    "import matplotlib.pyplot as plt\n",
    "from binseg import binseg\n",
    "from true_cps import read_true_change_points\n",
    "from coverage import coverage_score\n",
    "\n",
    "# Define the dataset name\n",
    "dataset_name = 'CricketX'\n",
    "\n",
    "# Path to the dataset and description files\n",
    "data_path = f'..\\Data\\{dataset_name}.txt'\n",
    "desc_path = '..\\Data\\TrueCPS\\desc.txt'\n",
    "\n",
    "# Load the dataset\n",
    "data = np.loadtxt(data_path)\n",
    "\n",
    "# Read true change points\n",
    "true_change_points = read_true_change_points(desc_path, dataset_name)\n",
    "\n",
    "# Parameters for binseg function\n",
    "n_cps = 4\n",
    "cost_func = \"rbf\"\n",
    "\n",
    "# Call the binseg function on the loaded data\n",
    "change_points = binseg(data, n_cps, cost_func)\n",
    "\n",
    "# Print the detected change points\n",
    "print(\"Detected Change Points by Binseg:\", change_points)\n",
    "print(\"True Change Points:\", true_change_points)\n",
    "\n",
    "# Visualization\n",
    "plt.figure(figsize=(15, 6))  # Adjust the figure size to make it wider\n",
    "plt.plot(data, label='Time Series Data')\n",
    "\n",
    "# Draw vertical lines for each change point detected by binseg\n",
    "for cp in change_points:\n",
    "    plt.axvline(x=cp, color='red', linestyle='--', linewidth=1, label='Detected Change Point' if cp == change_points[0] else \"\")\n",
    "\n",
    "# Draw vertical lines for each true change point\n",
    "for cp in true_change_points:\n",
    "    plt.axvline(x=cp, color='green', linestyle='-', linewidth=1, label='True Change Point' if cp == true_change_points[0] else \"\")\n",
    "\n",
    "plt.xlabel('Time')\n",
    "plt.ylabel('Value')\n",
    "plt.title(f'Time Series Data of {dataset_name} with Detected and True Change Points')\n",
    "plt.legend()\n",
    "plt.show()\n",
    "\n",
    "tolerance = 15\n",
    "score = coverage_score(true_change_points, change_points, tolerance)\n",
    "print(\"Enhanced Coverage Score:\", score)\n"
   ]
  },
  {
   "cell_type": "code",
   "execution_count": null,
   "metadata": {},
   "outputs": [],
   "source": []
  }
 ],
 "metadata": {
  "kernelspec": {
   "display_name": "TSFYP",
   "language": "python",
   "name": "python3"
  },
  "language_info": {
   "codemirror_mode": {
    "name": "ipython",
    "version": 3
   },
   "file_extension": ".py",
   "mimetype": "text/x-python",
   "name": "python",
   "nbconvert_exporter": "python",
   "pygments_lexer": "ipython3",
   "version": "3.9.18"
  }
 },
 "nbformat": 4,
 "nbformat_minor": 2
}
